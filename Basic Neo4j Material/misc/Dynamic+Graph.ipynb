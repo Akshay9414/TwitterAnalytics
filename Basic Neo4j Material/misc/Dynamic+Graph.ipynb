{
 "cells": [
  {
   "cell_type": "markdown",
   "metadata": {},
   "source": [
    "Ideas for the DashBoard\n",
    "========================"
   ]
  },
  {
   "cell_type": "markdown",
   "metadata": {},
   "source": [
    "* Track the activity of a user- No graphs needed, can show the data in tabular format\n",
    "* To track the stats od the overall graph, need graphs, perhaps those being updated in real time"
   ]
  },
  {
   "cell_type": "markdown",
   "metadata": {},
   "source": [
    "Streaming graph to track the number of tweets with cetain hashag\n",
    "------------------------------------------------------------------"
   ]
  },
  {
   "cell_type": "code",
   "execution_count": 8,
   "metadata": {
    "collapsed": true
   },
   "outputs": [],
   "source": [
    "from __future__ import print_function\n",
    "import plotly\n",
    "import numpy as np\n",
    "import plotly.plotly as py\n",
    "import plotly.graph_objs as go\n",
    "import plotly.tools as tls\n",
    "import pandas as pd\n",
    "import datetime, time, random"
   ]
  },
  {
   "cell_type": "code",
   "execution_count": 2,
   "metadata": {
    "collapsed": false
   },
   "outputs": [
    {
     "name": "stdout",
     "output_type": "stream",
     "text": [
      "['hbf4ycoqv5', '16nhy11qxu', '500i1u8gql']\n"
     ]
    }
   ],
   "source": [
    "stream_ids = tls.get_credentials_file()['stream_ids']\n",
    "print(stream_ids)"
   ]
  },
  {
   "cell_type": "code",
   "execution_count": 3,
   "metadata": {
    "collapsed": true
   },
   "outputs": [],
   "source": [
    "stream_id = stream_ids[0]\n",
    "\n",
    "stream_1 = go.Stream(\n",
    "    token=stream_id,\n",
    "    maxpoints=80,\n",
    ")"
   ]
  },
  {
   "cell_type": "code",
   "execution_count": 4,
   "metadata": {
    "collapsed": true
   },
   "outputs": [],
   "source": [
    "trace1 = go.Scatter(\n",
    "    x=[],\n",
    "    y=[],\n",
    "    mode='lines+markers',\n",
    "    stream=stream_1\n",
    ")\n",
    "\n",
    "data = go.Data([trace1])"
   ]
  },
  {
   "cell_type": "code",
   "execution_count": 5,
   "metadata": {
    "collapsed": false
   },
   "outputs": [
    {
     "data": {
      "text/html": [
       "<iframe id=\"igraph\" scrolling=\"no\" style=\"border:none;\" seamless=\"seamless\" src=\"https://plot.ly/~sainideepak119/2.embed\" height=\"525px\" width=\"100%\"></iframe>"
      ],
      "text/plain": [
       "<plotly.tools.PlotlyDisplay object>"
      ]
     },
     "execution_count": 5,
     "metadata": {},
     "output_type": "execute_result"
    }
   ],
   "source": [
    "layout = go.Layout(title='Time Series')\n",
    "fig = go.Figure(data=data, layout=layout)\n",
    "py.iplot(fig, filename='python-streaming')"
   ]
  },
  {
   "cell_type": "code",
   "execution_count": 6,
   "metadata": {
    "collapsed": false
   },
   "outputs": [],
   "source": [
    "pipe = py.Stream(stream_id)\n",
    "pipe.open()"
   ]
  },
  {
   "cell_type": "code",
   "execution_count": 10,
   "metadata": {
    "collapsed": false
   },
   "outputs": [
    {
     "ename": "KeyboardInterrupt",
     "evalue": "",
     "output_type": "error",
     "traceback": [
      "\u001b[1;31m---------------------------------------------------------------------------\u001b[0m",
      "\u001b[1;31mKeyboardInterrupt\u001b[0m                         Traceback (most recent call last)",
      "\u001b[1;32m<ipython-input-10-2f2a660a9844>\u001b[0m in \u001b[0;36m<module>\u001b[1;34m()\u001b[0m\n\u001b[0;32m      7\u001b[0m     \u001b[0my\u001b[0m \u001b[1;33m=\u001b[0m \u001b[1;33m(\u001b[0m\u001b[0mnp\u001b[0m\u001b[1;33m.\u001b[0m\u001b[0mcos\u001b[0m\u001b[1;33m(\u001b[0m\u001b[0mk\u001b[0m\u001b[1;33m*\u001b[0m\u001b[0mi\u001b[0m\u001b[1;33m/\u001b[0m\u001b[1;36m50.\u001b[0m\u001b[1;33m)\u001b[0m\u001b[1;33m*\u001b[0m\u001b[0mnp\u001b[0m\u001b[1;33m.\u001b[0m\u001b[0mcos\u001b[0m\u001b[1;33m(\u001b[0m\u001b[0mi\u001b[0m\u001b[1;33m/\u001b[0m\u001b[1;36m50.\u001b[0m\u001b[1;33m)\u001b[0m\u001b[1;33m+\u001b[0m\u001b[0mnp\u001b[0m\u001b[1;33m.\u001b[0m\u001b[0mrandom\u001b[0m\u001b[1;33m.\u001b[0m\u001b[0mrandn\u001b[0m\u001b[1;33m(\u001b[0m\u001b[1;36m1\u001b[0m\u001b[1;33m)\u001b[0m\u001b[1;33m)\u001b[0m\u001b[1;33m[\u001b[0m\u001b[1;36m0\u001b[0m\u001b[1;33m]\u001b[0m\u001b[1;33m\u001b[0m\u001b[0m\n\u001b[0;32m      8\u001b[0m     \u001b[0mpipe\u001b[0m\u001b[1;33m.\u001b[0m\u001b[0mwrite\u001b[0m\u001b[1;33m(\u001b[0m\u001b[0mdict\u001b[0m\u001b[1;33m(\u001b[0m\u001b[0mx\u001b[0m\u001b[1;33m=\u001b[0m\u001b[0mx\u001b[0m\u001b[1;33m,\u001b[0m \u001b[0my\u001b[0m\u001b[1;33m=\u001b[0m\u001b[0my\u001b[0m\u001b[1;33m)\u001b[0m\u001b[1;33m)\u001b[0m\u001b[1;33m\u001b[0m\u001b[0m\n\u001b[1;32m----> 9\u001b[1;33m     \u001b[0mtime\u001b[0m\u001b[1;33m.\u001b[0m\u001b[0msleep\u001b[0m\u001b[1;33m(\u001b[0m\u001b[1;36m1\u001b[0m\u001b[1;33m)\u001b[0m\u001b[1;33m\u001b[0m\u001b[0m\n\u001b[0m",
      "\u001b[1;31mKeyboardInterrupt\u001b[0m: "
     ]
    }
   ],
   "source": [
    "i = 0\n",
    "k = 5\n",
    "time.sleep(5)\n",
    "\n",
    "while True:\n",
    "    x = datetime.datetime.now().strftime('%Y-%m-%d %H:%M:%S.%f')\n",
    "    y = (np.cos(k*i/50.)*np.cos(i/50.)+np.random.randn(1))[0]\n",
    "    pipe.write(dict(x=x, y=y))\n",
    "    time.sleep(1)"
   ]
  },
  {
   "cell_type": "code",
   "execution_count": 11,
   "metadata": {
    "collapsed": true
   },
   "outputs": [],
   "source": [
    "pipe.close()"
   ]
  },
  {
   "cell_type": "markdown",
   "metadata": {},
   "source": [
    "Stream bubble map of locations of tweets\n",
    "-----------------------------------------"
   ]
  },
  {
   "cell_type": "code",
   "execution_count": 55,
   "metadata": {
    "collapsed": false
   },
   "outputs": [
    {
     "name": "stdout",
     "output_type": "stream",
     "text": [
      "221\n"
     ]
    }
   ],
   "source": [
    "dframe = pd.read_csv('https://raw.githubusercontent.com/plotly/datasets/master/2011_february_us_airport_traffic.csv')\n",
    "dframe[\"text\"] = \"Airport Code \"+dframe[\"iata\"]+\"<br/> State: \"+dframe[\"state\"]\n",
    "print(len(dframe))"
   ]
  },
  {
   "cell_type": "code",
   "execution_count": 36,
   "metadata": {
    "collapsed": false
   },
   "outputs": [
    {
     "name": "stdout",
     "output_type": "stream",
     "text": [
      "['hbf4ycoqv5', '16nhy11qxu', '500i1u8gql', 'j11d4bttjl']\n"
     ]
    }
   ],
   "source": [
    "stream_ids = tls.get_credentials_file()['stream_ids']\n",
    "print(stream_ids)\n",
    "stream_id = stream_ids[-1]\n",
    "\n",
    "stream_1 = dict(\n",
    "    token=stream_id,\n",
    "    maxpoints=10,\n",
    ")"
   ]
  },
  {
   "cell_type": "code",
   "execution_count": 67,
   "metadata": {
    "collapsed": false
   },
   "outputs": [
    {
     "data": {
      "text/html": [
       "<iframe id=\"igraph\" scrolling=\"no\" style=\"border:none;\" seamless=\"seamless\" src=\"https://plot.ly/~sainideepak119/3.embed\" height=\"525px\" width=\"100%\"></iframe>"
      ],
      "text/plain": [
       "<plotly.tools.PlotlyDisplay object>"
      ]
     },
     "execution_count": 67,
     "metadata": {},
     "output_type": "execute_result"
    }
   ],
   "source": [
    "data = [dict(\n",
    "        type='scattergeo',\n",
    "        lon=[],\n",
    "        lat=[],\n",
    "        text = [],\n",
    "        mode='markers',\n",
    "        marker=dict(\n",
    "            size=8,\n",
    "            opacity=0.8,\n",
    "            reversescale=True,\n",
    "            autocolorscale=False,\n",
    "            line=dict(\n",
    "                width=1,\n",
    "                color='rgba(102, 102, 102)'\n",
    "            ),\n",
    "        ),\n",
    "        stream=stream_1,\n",
    "        name=\"Plane\")]\n",
    "layout = dict(\n",
    "        title = 'Random cities',\n",
    "        showlegend = True,\n",
    "        geo = dict(\n",
    "            scope='usa',\n",
    "            projection=dict( type='albers usa' ),\n",
    "            showland = True,\n",
    "            landcolor = 'rgb(217, 217, 217)',\n",
    "            subunitwidth=1,\n",
    "            countrywidth=1,\n",
    "            subunitcolor=\"rgb(255, 255, 255)\",\n",
    "            countrycolor=\"rgb(255, 255, 255)\"\n",
    "        ),\n",
    "    )\n",
    "\n",
    "\n",
    "fig = dict( data=data, layout=layout )\n",
    "py.iplot( fig, validate=False, filename='geo-streaming2')#, auto_open=False, fileopt='extend')"
   ]
  },
  {
   "cell_type": "code",
   "execution_count": 61,
   "metadata": {
    "collapsed": true
   },
   "outputs": [],
   "source": [
    "pipe = py.Stream(stream_id)\n",
    "pipe.open()"
   ]
  },
  {
   "cell_type": "code",
   "execution_count": 69,
   "metadata": {
    "collapsed": false
   },
   "outputs": [
    {
     "ename": "KeyboardInterrupt",
     "evalue": "",
     "output_type": "error",
     "traceback": [
      "\u001b[1;31m---------------------------------------------------------------------------\u001b[0m",
      "\u001b[1;31mKeyboardInterrupt\u001b[0m                         Traceback (most recent call last)",
      "\u001b[1;32m<ipython-input-69-8914d53139b3>\u001b[0m in \u001b[0;36m<module>\u001b[1;34m()\u001b[0m\n\u001b[0;32m     10\u001b[0m \u001b[1;31m#                                  'color': \"green\",\u001b[0m\u001b[1;33m\u001b[0m\u001b[1;33m\u001b[0m\u001b[0m\n\u001b[0;32m     11\u001b[0m \u001b[1;31m#                                  'symbol': \"circle\"},))\u001b[0m\u001b[1;33m\u001b[0m\u001b[1;33m\u001b[0m\u001b[0m\n\u001b[1;32m---> 12\u001b[1;33m     \u001b[0mtime\u001b[0m\u001b[1;33m.\u001b[0m\u001b[0msleep\u001b[0m\u001b[1;33m(\u001b[0m\u001b[1;36m1\u001b[0m\u001b[1;33m)\u001b[0m\u001b[1;33m\u001b[0m\u001b[0m\n\u001b[0m",
      "\u001b[1;31mKeyboardInterrupt\u001b[0m: "
     ]
    }
   ],
   "source": [
    "time.sleep(5)\n",
    "\n",
    "while True:\n",
    "    i = random.randint(0,221)\n",
    "#     print(i)\n",
    "    row = dframe.iloc[i]\n",
    "#     print(row[\"lat\"],row[\"long\"])\n",
    "    pipe.write(dict(lat=row[\"lat\"], lon=row[\"long\"],text = row[\"text\"],type=\"scattergeo\",))\n",
    "#                     marker={'size': 5, 'sizemode': 'area',\n",
    "#                                  'color': \"green\",\n",
    "#                                  'symbol': \"circle\"},))\n",
    "    time.sleep(1)"
   ]
  },
  {
   "cell_type": "code",
   "execution_count": 47,
   "metadata": {
    "collapsed": true
   },
   "outputs": [],
   "source": [
    "pipe.close()"
   ]
  },
  {
   "cell_type": "markdown",
   "metadata": {},
   "source": [
    "Slider\n",
    "--------"
   ]
  },
  {
   "cell_type": "code",
   "execution_count": 24,
   "metadata": {
    "collapsed": true
   },
   "outputs": [],
   "source": [
    "import plotly.plotly as py\n",
    "import plotly.graph_objs as go \n",
    "from pprint import *\n",
    "import time, random\n",
    "from datetime import datetime\n",
    "import pandas_datareader.data as web"
   ]
  },
  {
   "cell_type": "code",
   "execution_count": 12,
   "metadata": {
    "collapsed": true
   },
   "outputs": [],
   "source": [
    "import os\n",
    "os.environ['HTTP_PROXY']=\"http://proxy62.iitd.ac.in:3128\"\n",
    "os.environ['HTTPS_PROXY']=\"https://proxy62.iitd.ac.in:3128\""
   ]
  },
  {
   "cell_type": "code",
   "execution_count": 15,
   "metadata": {
    "collapsed": false
   },
   "outputs": [
    {
     "name": "stdout",
     "output_type": "stream",
     "text": [
      "Open         2.209000e+01\n",
      "High         2.248714e+01\n",
      "Low          2.184714e+01\n",
      "Close        2.233429e+01\n",
      "Adj Close    2.002120e+01\n",
      "Volume       2.092671e+08\n",
      "Name: 2007-10-01 00:00:00, dtype: float64\n"
     ]
    }
   ],
   "source": [
    "df = web.DataReader(\"aapl\", 'yahoo',\n",
    "                    datetime(2007, 10, 1),\n",
    "                    datetime(2009, 4, 1))\n",
    "pprint(df.iloc[0])"
   ]
  },
  {
   "cell_type": "code",
   "execution_count": 16,
   "metadata": {
    "collapsed": false
   },
   "outputs": [
    {
     "name": "stdout",
     "output_type": "stream",
     "text": [
      "                 Open       High        Low      Close  Adj Close     Volume\n",
      "Date                                                                        \n",
      "2007-10-01  22.090000  22.487143  21.847143  22.334286  20.021204  209267100\n",
      "2007-10-02  22.364286  22.655714  22.270000  22.635714  20.291412  198017400\n",
      "2007-10-03  22.540001  22.740000  22.430000  22.559999  20.223536  173129600\n",
      "2007-10-04  22.571428  22.582857  21.928572  22.320000  20.008396  164239600\n",
      "2007-10-05  22.624287  23.082857  22.528572  23.064285  20.675600  235867800\n",
      "2007-10-08  23.355715  23.987143  23.281429  23.987143  21.502874  208982200\n",
      "2007-10-09  24.314285  24.444286  23.811428  23.980000  21.496475  276071600\n",
      "2007-10-10  23.935715  23.982857  23.657143  23.827143  21.359447  166897500\n",
      "2007-10-11  24.212856  24.554285  21.887142  23.175714  20.775484  410998000\n",
      "2007-10-12  23.287144  23.897142  23.114286  23.892857  21.418356  247044000\n",
      "2007-10-15  23.997143  24.224285  23.357143  23.854286  21.383780  269482500\n",
      "2007-10-16  23.648571  24.311428  23.592857  24.225714  21.716740  266957600\n",
      "2007-10-17  24.670000  24.719999  24.168571  24.678572  22.122698  281903300\n",
      "2007-10-18  24.500000  24.884285  24.435715  24.785715  22.218744  205919000\n",
      "2007-10-19  24.891428  24.947144  24.285715  24.345715  21.824312  322945000\n",
      "2007-10-22  24.335714  24.985714  24.280001  24.908571  22.328878  412374900\n",
      "2007-10-23  26.937143  26.942858  26.108572  26.594286  23.840008  448791000\n",
      "2007-10-24  26.544285  26.744286  25.605715  26.561428  23.810555  322120400\n",
      "2007-10-25  26.410000  26.557142  25.951429  26.111429  23.407162  243400500\n",
      "2007-10-26  26.469999  26.481428  26.125713  26.385714  23.653038  176719200\n",
      "2007-10-29  26.492857  26.655714  26.385714  26.441429  23.702988  135138500\n",
      "2007-10-30  26.597143  27.052856  26.389999  26.714285  23.947578  234853500\n",
      "2007-10-31  26.804285  27.160000  26.421429  27.135714  24.325365  208327700\n",
      "2007-11-01  26.942858  27.157143  25.714285  26.777143  24.003931  201259100\n",
      "2007-11-02  27.030001  27.062857  26.212856  26.838572  24.058996  250528600\n",
      "2007-11-05  26.469999  26.994286  26.320000  26.597143  23.842573  201044200\n",
      "2007-11-06  26.721428  27.428572  26.467142  27.398571  24.560997  238681800\n",
      "2007-11-07  27.230000  27.525715  26.590000  26.614286  23.857937  248581900\n",
      "2007-11-08  26.667143  26.700001  23.967142  25.067142  22.471025  472594500\n",
      "2007-11-09  24.450001  25.017143  23.601429  23.624287  21.177595  381595200\n",
      "...               ...        ...        ...        ...        ...        ...\n",
      "2009-02-19  13.338572  13.464286  12.872857  12.948571  11.607531  230701100\n",
      "2009-02-20  12.771428  13.200000  12.714286  13.028571  11.679247  187579000\n",
      "2009-02-23  13.092857  13.142858  12.358571  12.421429  11.134986  196745500\n",
      "2009-02-24  12.492857  12.984285  12.428572  12.892858  11.557591  201776400\n",
      "2009-02-25  12.837143  13.274285  12.750000  13.022857  11.674125  208263300\n",
      "2009-02-26  13.142858  13.274285  12.708571  12.741428  11.421844  157467100\n",
      "2009-02-27  12.561429  13.042857  12.524285  12.758572  11.437211  176664600\n",
      "2009-03-02  12.588572  13.028571  12.524285  12.562857  11.261767  192732400\n",
      "2009-03-03  12.704286  12.962857  12.554286  12.624286  11.316833  181085100\n",
      "2009-03-04  12.882857  13.252857  12.778571  13.024285  11.675406  185350900\n",
      "2009-03-05  12.922857  13.124286  12.635715  12.691428  11.377021  176724800\n",
      "2009-03-06  12.620000  12.628572  11.761429  12.185715  10.923683  252786800\n",
      "2009-03-09  12.025714  12.514286  11.795714  11.872857  10.643225  174574400\n",
      "2009-03-10  12.124286  12.738571  12.051429  12.661428  11.350128  211064700\n",
      "2009-03-11  12.830000  13.438571  12.797143  13.240000  11.868780  211593200\n",
      "2009-03-12  13.271428  13.797143  13.142858  13.764286  12.338767  192114300\n",
      "2009-03-13  13.757143  13.885715  13.572857  13.704286  12.284981  150292100\n",
      "2009-03-16  13.790000  13.912857  13.454286  13.631429  12.219669  199311000\n",
      "2009-03-17  13.605714  14.241428  13.581429  14.237143  12.762652  196661500\n",
      "2009-03-18  14.272857  14.782857  14.245714  14.502857  13.000848  199009300\n",
      "2009-03-19  14.550000  14.742857  14.321428  14.517143  13.013653  125045200\n",
      "2009-03-20  14.584286  14.730000  14.367143  14.512857  13.009811  173896800\n",
      "2009-03-23  14.672857  15.451428  14.535714  15.380000  13.787147  166599300\n",
      "2009-03-24  15.194285  15.634286  15.055715  15.214286  13.638594  160153000\n",
      "2009-03-25  15.368571  15.480000  14.837143  15.212857  13.637314  161654500\n",
      "2009-03-26  15.404285  15.711429  15.368571  15.695714  14.070163  154063000\n",
      "2009-03-27  15.461429  15.504286  15.200000  15.264286  13.683418  123218200\n",
      "2009-03-30  14.930000  15.001429  14.658571  14.927143  13.381192  125699000\n",
      "2009-03-31  15.064285  15.350000  15.000000  15.017143  13.461871  142520000\n",
      "2009-04-01  14.870000  15.571428  14.841429  15.527143  13.919051  147343000\n",
      "\n",
      "[379 rows x 6 columns]\n"
     ]
    }
   ],
   "source": [
    "pprint(df)"
   ]
  },
  {
   "cell_type": "code",
   "execution_count": 27,
   "metadata": {
    "collapsed": false
   },
   "outputs": [
    {
     "data": {
      "text/html": [
       "<iframe id=\"igraph\" scrolling=\"no\" style=\"border:none;\" seamless=\"seamless\" src=\"https://plot.ly/~sainideepak119/14.embed\" height=\"525px\" width=\"100%\"></iframe>"
      ],
      "text/plain": [
       "<plotly.tools.PlotlyDisplay object>"
      ]
     },
     "execution_count": 27,
     "metadata": {},
     "output_type": "execute_result"
    }
   ],
   "source": [
    "t1 = int(time.time())\n",
    "X = [datetime.fromtimestamp(x) for x in range(t1,t1+60*60*24,60)]\n",
    "Y = [random.randint(10,100) for i in range(len(X))]\n",
    "trace = go.Scatter(x=X,y=Y)\n",
    "\n",
    "data = [trace]\n",
    "for k in range(len(data)):\n",
    "    data[k].update(\n",
    "        {\n",
    "            \"type\": \"scatter\",\n",
    "            \"hoverinfo\": \"name+x+text\",\n",
    "            \"line\": {\"width\": 0.5}, \n",
    "            \"marker\": {\"size\": 8},\n",
    "            \"mode\": \"lines+markers\",\n",
    "            \"showlegend\": False\n",
    "        }\n",
    "    )\n",
    "layout = dict(\n",
    "    title='Time series with range slider and selectors',\n",
    "    xaxis=dict(\n",
    "        rangeselector=dict(\n",
    "            buttons=list([\n",
    "                dict(count=1,\n",
    "                     label='1h',\n",
    "                     step='hour',\n",
    "                     stepmode='backward'),\n",
    "                dict(count=6,\n",
    "                     label='6h',\n",
    "                     step='hour',\n",
    "                     stepmode='backward'),\n",
    "#                 dict(count=1,\n",
    "#                     label='YTD',\n",
    "#                     step='year',\n",
    "#                     stepmode='todate'),\n",
    "#                 dict(count=1,\n",
    "#                     label='1y',\n",
    "#                     step='year',\n",
    "#                     stepmode='backward'),\n",
    "                dict(step='all')\n",
    "            ])\n",
    "        ),\n",
    "        rangeslider=dict(),\n",
    "        type='date'\n",
    "    )\n",
    ")\n",
    "\n",
    "fig = dict(data=data, layout=layout)\n",
    "py.iplot(fig)"
   ]
  },
  {
   "cell_type": "code",
   "execution_count": 18,
   "metadata": {
    "collapsed": false
   },
   "outputs": [],
   "source": [
    "trace1 = go.Scatter(\n",
    "     x = [\"2013-01-15\", \"2013-01-29\", \"2013-02-26\", \"2013-04-19\", \"2013-07-02\", \"2013-08-27\",\n",
    "         \"2013-10-22\", \"2014-01-20\", \"2014-05-05\", \"2014-07-01\", \"2015-02-09\", \"2015-04-13\",\n",
    "         \"2015-05-13\", \"2015-06-08\", \"2015-08-05\", \"2016-02-25\"], \n",
    "    y = [\"8\", \"3\", \"2\", \"10\", \"5\", \"5\", \"6\", \"8\", \"3\", \"3\", \"7\", \"5\", \"10\", \"10\", \"9\", \"14\"], \n",
    "    name = \"var0\", \n",
    "    text = [\"8\", \"3\", \"2\", \"10\", \"5\", \"5\", \"6\", \"8\", \"3\", \"3\", \"7\", \"5\", \"10\", \"10\", \"9\", \"14\"], \n",
    "    yaxis = \"y\", \n",
    ")\n",
    "\n",
    "trace2 = go.Scatter(\n",
    "    x = [\"2015-04-13\", \"2015-05-13\", \"2015-06-08\", \"2015-08-05\", \"2016-02-25\"], \n",
    "    y = [\"53.0\", \"69.0\", \"89.0\", \"41.0\", \"41.0\"], \n",
    "    name = \"var1\", \n",
    "    text = [\"53.0\", \"69.0\", \"89.0\", \"41.0\", \"41.0\"], \n",
    "    yaxis = \"y2\", \n",
    ")\n",
    "data = go.Data([trace1, trace2])\n"
   ]
  },
  {
   "cell_type": "code",
   "execution_count": 19,
   "metadata": {
    "collapsed": true
   },
   "outputs": [],
   "source": [
    "# style all the traces\n",
    "for k in range(len(data)):\n",
    "    data[k].update(\n",
    "        {\n",
    "            \"type\": \"scatter\",\n",
    "            \"hoverinfo\": \"name+x+text\",\n",
    "            \"line\": {\"width\": 0.5}, \n",
    "            \"marker\": {\"size\": 8},\n",
    "            \"mode\": \"lines+markers\",\n",
    "            \"showlegend\": False\n",
    "        }\n",
    "    )\n"
   ]
  },
  {
   "cell_type": "code",
   "execution_count": 20,
   "metadata": {
    "collapsed": true
   },
   "outputs": [],
   "source": [
    "layout = {\n",
    "  \"annotations\": [\n",
    "    {\n",
    "      \"x\": \"2013-06-01\", \n",
    "      \"y\": 0, \n",
    "      \"arrowcolor\": \"rgba(63, 81, 181, 0.2)\", \n",
    "      \"arrowsize\": 0.3, \n",
    "      \"ax\": 0, \n",
    "      \"ay\": 30, \n",
    "      \"text\": \"state1\", \n",
    "      \"xref\": \"x\", \n",
    "      \"yanchor\": \"bottom\", \n",
    "      \"yref\": \"y\"\n",
    "    }, \n",
    "    {\n",
    "      \"x\": \"2014-09-13\", \n",
    "      \"y\": 0, \n",
    "      \"arrowcolor\": \"rgba(76, 175, 80, 0.1)\", \n",
    "      \"arrowsize\": 0.3, \n",
    "      \"ax\": 0,\n",
    "      \"ay\": 30,\n",
    "      \"text\": \"state2\",\n",
    "      \"xref\": \"x\", \n",
    "      \"yanchor\": \"bottom\", \n",
    "      \"yref\": \"y\"\n",
    "    }\n",
    "  ], \n",
    "  \"dragmode\": \"zoom\", \n",
    "  \"hovermode\": \"x\", \n",
    "  \"legend\": {\"traceorder\": \"reversed\"}, \n",
    "  \"margin\": {\n",
    "    \"t\": 100, \n",
    "    \"b\": 100\n",
    "  }, \n",
    "  \"shapes\": [\n",
    "    {\n",
    "      \"fillcolor\": \"rgba(63, 81, 181, 0.2)\", \n",
    "      \"line\": {\"width\": 0}, \n",
    "      \"type\": \"rect\", \n",
    "      \"x0\": \"2013-01-15\", \n",
    "      \"x1\": \"2013-10-17\", \n",
    "      \"xref\": \"x\", \n",
    "      \"y0\": 0, \n",
    "      \"y1\": 0.95, \n",
    "      \"yref\": \"paper\"\n",
    "    }, \n",
    "    {\n",
    "      \"fillcolor\": \"rgba(76, 175, 80, 0.1)\", \n",
    "      \"line\": {\"width\": 0}, \n",
    "      \"type\": \"rect\", \n",
    "      \"x0\": \"2013-10-22\", \n",
    "      \"x1\": \"2015-08-05\", \n",
    "      \"xref\": \"x\", \n",
    "      \"y0\": 0, \n",
    "      \"y1\": 0.95, \n",
    "      \"yref\": \"paper\"\n",
    "    }\n",
    "  ], \n",
    "  \"xaxis\": {\n",
    "    \"autorange\": True, \n",
    "    \"range\": [\"2012-10-31 18:36:37.3129\", \"2016-05-10 05:23:22.6871\"], \n",
    "    \"rangeslider\": {\n",
    "      \"autorange\": True, \n",
    "      \"range\": [\"2012-10-31 18:36:37.3129\", \"2016-05-10 05:23:22.6871\"]\n",
    "    }, \n",
    "    \"type\": \"date\"\n",
    "  }, \n",
    "  \"yaxis\": {\n",
    "    \"anchor\": \"x\", \n",
    "    \"autorange\": True, \n",
    "    \"domain\": [0, 0.2], \n",
    "    \"linecolor\": \"#673ab7\", \n",
    "    \"mirror\": True, \n",
    "    \"range\": [-60.0858369099, 28.4406294707], \n",
    "    \"showline\": True, \n",
    "    \"side\": \"right\", \n",
    "    \"tickfont\": {\"color\": \"#673ab7\"}, \n",
    "    \"tickmode\": \"auto\", \n",
    "    \"ticks\": \"\", \n",
    "    \"titlefont\": {\"color\": \"#673ab7\"}, \n",
    "    \"type\": \"linear\", \n",
    "    \"zeroline\": False\n",
    "  }, \n",
    "  \"yaxis2\": {\n",
    "    \"anchor\": \"x\", \n",
    "    \"autorange\": True, \n",
    "    \"domain\": [0.2, 0.4], \n",
    "    \"linecolor\": \"#E91E63\", \n",
    "    \"mirror\": True, \n",
    "    \"range\": [29.3787777032, 100.621222297], \n",
    "    \"showline\": True, \n",
    "    \"side\": \"right\", \n",
    "    \"tickfont\": {\"color\": \"#E91E63\"}, \n",
    "    \"tickmode\": \"auto\", \n",
    "    \"ticks\": \"\", \n",
    "    \"titlefont\": {\"color\": \"#E91E63\"}, \n",
    "    \"type\": \"linear\", \n",
    "    \"zeroline\": False\n",
    "  }, \n",
    "  \"yaxis3\": {\n",
    "    \"anchor\": \"x\", \n",
    "    \"autorange\": True, \n",
    "    \"domain\": [0.4, 0.6], \n",
    "    \"linecolor\": \"#795548\", \n",
    "    \"mirror\": True, \n",
    "    \"range\": [-3.73690396239, 22.2369039624], \n",
    "    \"showline\": True, \n",
    "    \"side\": \"right\", \n",
    "    \"tickfont\": {\"color\": \"#795548\"}, \n",
    "    \"tickmode\": \"auto\", \n",
    "    \"ticks\": \"\", \n",
    "    \"title\": \"mg/L\", \n",
    "    \"titlefont\": {\"color\": \"#795548\"}, \n",
    "    \"type\": \"linear\", \n",
    "    \"zeroline\": False\n",
    "  }, \n",
    "  \"yaxis4\": {\n",
    "    \"anchor\": \"x\", \n",
    "    \"autorange\": True, \n",
    "    \"domain\": [0.6, 0.8], \n",
    "    \"linecolor\": \"#607d8b\", \n",
    "    \"mirror\": True, \n",
    "    \"range\": [6.63368032236, 8.26631967764], \n",
    "    \"showline\": True, \n",
    "    \"side\": \"right\", \n",
    "    \"tickfont\": {\"color\": \"#607d8b\"}, \n",
    "    \"tickmode\": \"auto\", \n",
    "    \"ticks\": \"\", \n",
    "    \"title\": \"mmol/L\", \n",
    "    \"titlefont\": {\"color\": \"#607d8b\"}, \n",
    "    \"type\": \"linear\", \n",
    "    \"zeroline\": False\n",
    "  }, \n",
    "  \"yaxis5\": {\n",
    "    \"anchor\": \"x\", \n",
    "    \"autorange\": True, \n",
    "    \"domain\": [0.8, 1], \n",
    "    \"linecolor\": \"#2196F3\", \n",
    "    \"mirror\": True, \n",
    "    \"range\": [-685.336803224, 3718.33680322], \n",
    "    \"showline\": True, \n",
    "    \"side\": \"right\", \n",
    "    \"tickfont\": {\"color\": \"#2196F3\"}, \n",
    "    \"tickmode\": \"auto\",\n",
    "    \"ticks\": \"\", \n",
    "    \"title\": \"mg/Kg\", \n",
    "    \"titlefont\": {\"color\": \"#2196F3\"}, \n",
    "    \"type\": \"linear\", \n",
    "    \"zeroline\": False\n",
    "  }\n",
    "}"
   ]
  },
  {
   "cell_type": "code",
   "execution_count": 21,
   "metadata": {
    "collapsed": false
   },
   "outputs": [
    {
     "data": {
      "text/html": [
       "<iframe id=\"igraph\" scrolling=\"no\" style=\"border:none;\" seamless=\"seamless\" src=\"https://plot.ly/~sainideepak119/6.embed\" height=\"525px\" width=\"100%\"></iframe>"
      ],
      "text/plain": [
       "<plotly.tools.PlotlyDisplay object>"
      ]
     },
     "execution_count": 21,
     "metadata": {},
     "output_type": "execute_result"
    }
   ],
   "source": [
    "fig = go.Figure(data=data, layout=layout)\n",
    "py.iplot(fig)"
   ]
  }
 ],
 "metadata": {
  "anaconda-cloud": {},
  "kernelspec": {
   "display_name": "Python [Root]",
   "language": "python",
   "name": "Python [Root]"
  },
  "language_info": {
   "codemirror_mode": {
    "name": "ipython",
    "version": 3
   },
   "file_extension": ".py",
   "mimetype": "text/x-python",
   "name": "python",
   "nbconvert_exporter": "python",
   "pygments_lexer": "ipython3",
   "version": "3.5.2"
  }
 },
 "nbformat": 4,
 "nbformat_minor": 2
}
